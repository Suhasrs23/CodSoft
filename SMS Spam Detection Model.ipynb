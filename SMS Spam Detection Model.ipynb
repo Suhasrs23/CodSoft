{
 "cells": [
  {
   "cell_type": "code",
   "execution_count": 6,
   "id": "1d1bbd41",
   "metadata": {},
   "outputs": [
    {
     "name": "stdout",
     "output_type": "stream",
     "text": [
      "Accuracy: 96.68%\n",
      "Confusion Matrix:\n",
      " [[965   0]\n",
      " [ 37 113]]\n",
      "Classification Report:\n",
      "               precision    recall  f1-score   support\n",
      "\n",
      "         ham       0.96      1.00      0.98       965\n",
      "        spam       1.00      0.75      0.86       150\n",
      "\n",
      "    accuracy                           0.97      1115\n",
      "   macro avg       0.98      0.88      0.92      1115\n",
      "weighted avg       0.97      0.97      0.96      1115\n",
      "\n"
     ]
    }
   ],
   "source": [
    "# Import necessary libraries\n",
    "import pandas as pd\n",
    "from sklearn.feature_extraction.text import TfidfVectorizer\n",
    "from sklearn.model_selection import train_test_split\n",
    "from sklearn.naive_bayes import MultinomialNB\n",
    "from sklearn.metrics import accuracy_score, classification_report, confusion_matrix\n",
    "\n",
    "# Load the SMS dataset\n",
    "sms = pd.read_csv(r'C:\\Users\\SUHAS R S\\Downloads\\spam.csv', encoding='latin1')\n",
    "\n",
    "\n",
    "# Split the data into training and testing sets\n",
    "# Assuming 'v2' contains SMS messages and 'v1' contains labels\n",
    "X = sms['v2']  # SMS messages\n",
    "y = sms['v1']  # Spam/legitimate labels\n",
    "  # Spam/legitimate labels\n",
    "\n",
    "X_train, X_test, y_train, y_test = train_test_split(X, y, test_size=0.2, random_state=42)\n",
    "\n",
    "# TF-IDF Vectorization\n",
    "tfidf_vectorizer = TfidfVectorizer(max_features=5000)  # You can adjust the number of features as needed\n",
    "X_train_tfidf = tfidf_vectorizer.fit_transform(X_train)\n",
    "X_test_tfidf = tfidf_vectorizer.transform(X_test)\n",
    "\n",
    "# Train a Multinomial Naive Bayes classifier\n",
    "naive_bayes = MultinomialNB()\n",
    "naive_bayes.fit(X_train_tfidf, y_train)\n",
    "\n",
    "# Make predictions\n",
    "y_pred = naive_bayes.predict(X_test_tfidf)\n",
    "\n",
    "# Model Evaluation\n",
    "accuracy = accuracy_score(y_test, y_pred)\n",
    "confusion = confusion_matrix(y_test, y_pred)\n",
    "report = classification_report(y_test, y_pred)\n",
    "\n",
    "print(\"Accuracy: {:.2f}%\".format(accuracy * 100))\n",
    "print(\"Confusion Matrix:\\n\", confusion)\n",
    "print(\"Classification Report:\\n\", report)\n"
   ]
  },
  {
   "cell_type": "code",
   "execution_count": 10,
   "id": "1ed282df",
   "metadata": {},
   "outputs": [
    {
     "name": "stdout",
     "output_type": "stream",
     "text": [
      "This SMS is not spam.\n"
     ]
    }
   ],
   "source": [
    "new_message = [\"Go until jurong point, crazy.. Available only in bugis n great world la e buffet... Cine there got amore wat...!\"]\n",
    "new_message_tfidf = tfidf_vectorizer.transform(new_message)\n",
    "\n",
    "# Make a prediction\n",
    "prediction = naive_bayes.predict(new_message_tfidf)\n",
    "\n",
    "if prediction[0] == 'ham':\n",
    "    print(\"This SMS is not spam.\")\n",
    "else:\n",
    "    print(\"This SMS is spam.\")"
   ]
  },
  {
   "cell_type": "code",
   "execution_count": 11,
   "id": "9b02c3a1",
   "metadata": {},
   "outputs": [
    {
     "name": "stdout",
     "output_type": "stream",
     "text": [
      "This SMS is spam.\n"
     ]
    }
   ],
   "source": [
    "new_message = [\" Free entry in 2 a wkly comp to win FA Cup final tkts 21st May 2005. Text FA to 87121 to receive entry question(std txt rate)T&C's apply 08452810075over18's\"]\n",
    "new_message_tfidf = tfidf_vectorizer.transform(new_message)\n",
    "\n",
    "# Make a prediction\n",
    "prediction = naive_bayes.predict(new_message_tfidf)\n",
    "\n",
    "if prediction[0] == 'ham':\n",
    "    print(\"This SMS is not spam.\")\n",
    "else:\n",
    "    print(\"This SMS is spam.\")"
   ]
  },
  {
   "cell_type": "code",
   "execution_count": null,
   "id": "c13daa67",
   "metadata": {},
   "outputs": [],
   "source": [
    "\n"
   ]
  },
  {
   "cell_type": "code",
   "execution_count": null,
   "id": "360bc52d",
   "metadata": {},
   "outputs": [],
   "source": []
  }
 ],
 "metadata": {
  "kernelspec": {
   "display_name": "Python 3 (ipykernel)",
   "language": "python",
   "name": "python3"
  },
  "language_info": {
   "codemirror_mode": {
    "name": "ipython",
    "version": 3
   },
   "file_extension": ".py",
   "mimetype": "text/x-python",
   "name": "python",
   "nbconvert_exporter": "python",
   "pygments_lexer": "ipython3",
   "version": "3.11.4"
  }
 },
 "nbformat": 4,
 "nbformat_minor": 5
}
