{
 "cells": [
  {
   "cell_type": "code",
   "execution_count": 1,
   "id": "9a3b8d01",
   "metadata": {},
   "outputs": [],
   "source": [
    "import sklearn\n",
    "import pandas as pd\n",
    "import numpy as np\n",
    "import matplotlib.pyplot as plt\n",
    "from sklearn.metrics import classification_report,accuracy_score\n",
    "from sklearn.ensemble import IsolationForest\n",
    "from sklearn.neighbors import LocalOutlierFactor\n",
    "from sklearn.svm import OneClassSVM\n",
    "from pylab import rcParams\n",
    "rcParams['figure.figsize']=14,8\n",
    "RANDOM_SEED=42\n",
    "LABELS={'Normal,Fraud'}"
   ]
  },
  {
   "cell_type": "code",
   "execution_count": 2,
   "id": "972cabbb",
   "metadata": {},
   "outputs": [
    {
     "data": {
      "text/html": [
       "<div>\n",
       "<style scoped>\n",
       "    .dataframe tbody tr th:only-of-type {\n",
       "        vertical-align: middle;\n",
       "    }\n",
       "\n",
       "    .dataframe tbody tr th {\n",
       "        vertical-align: top;\n",
       "    }\n",
       "\n",
       "    .dataframe thead th {\n",
       "        text-align: right;\n",
       "    }\n",
       "</style>\n",
       "<table border=\"1\" class=\"dataframe\">\n",
       "  <thead>\n",
       "    <tr style=\"text-align: right;\">\n",
       "      <th></th>\n",
       "      <th>Unnamed: 0</th>\n",
       "      <th>trans_date_trans_time</th>\n",
       "      <th>cc_num</th>\n",
       "      <th>merchant</th>\n",
       "      <th>category</th>\n",
       "      <th>amt</th>\n",
       "      <th>first</th>\n",
       "      <th>last</th>\n",
       "      <th>gender</th>\n",
       "      <th>street</th>\n",
       "      <th>...</th>\n",
       "      <th>lat</th>\n",
       "      <th>long</th>\n",
       "      <th>city_pop</th>\n",
       "      <th>job</th>\n",
       "      <th>dob</th>\n",
       "      <th>trans_num</th>\n",
       "      <th>unix_time</th>\n",
       "      <th>merch_lat</th>\n",
       "      <th>merch_long</th>\n",
       "      <th>is_fraud</th>\n",
       "    </tr>\n",
       "  </thead>\n",
       "  <tbody>\n",
       "    <tr>\n",
       "      <th>0</th>\n",
       "      <td>0</td>\n",
       "      <td>2020-06-21 12:14:25</td>\n",
       "      <td>2291163933867244</td>\n",
       "      <td>fraud_Kirlin and Sons</td>\n",
       "      <td>personal_care</td>\n",
       "      <td>2.86</td>\n",
       "      <td>Jeff</td>\n",
       "      <td>Elliott</td>\n",
       "      <td>M</td>\n",
       "      <td>351 Darlene Green</td>\n",
       "      <td>...</td>\n",
       "      <td>33.9659</td>\n",
       "      <td>-80.9355</td>\n",
       "      <td>333497</td>\n",
       "      <td>Mechanical engineer</td>\n",
       "      <td>1968-03-19</td>\n",
       "      <td>2da90c7d74bd46a0caf3777415b3ebd3</td>\n",
       "      <td>1371816865</td>\n",
       "      <td>33.986391</td>\n",
       "      <td>-81.200714</td>\n",
       "      <td>0</td>\n",
       "    </tr>\n",
       "    <tr>\n",
       "      <th>1</th>\n",
       "      <td>1</td>\n",
       "      <td>2020-06-21 12:14:33</td>\n",
       "      <td>3573030041201292</td>\n",
       "      <td>fraud_Sporer-Keebler</td>\n",
       "      <td>personal_care</td>\n",
       "      <td>29.84</td>\n",
       "      <td>Joanne</td>\n",
       "      <td>Williams</td>\n",
       "      <td>F</td>\n",
       "      <td>3638 Marsh Union</td>\n",
       "      <td>...</td>\n",
       "      <td>40.3207</td>\n",
       "      <td>-110.4360</td>\n",
       "      <td>302</td>\n",
       "      <td>Sales professional, IT</td>\n",
       "      <td>1990-01-17</td>\n",
       "      <td>324cc204407e99f51b0d6ca0055005e7</td>\n",
       "      <td>1371816873</td>\n",
       "      <td>39.450498</td>\n",
       "      <td>-109.960431</td>\n",
       "      <td>0</td>\n",
       "    </tr>\n",
       "    <tr>\n",
       "      <th>2</th>\n",
       "      <td>2</td>\n",
       "      <td>2020-06-21 12:14:53</td>\n",
       "      <td>3598215285024754</td>\n",
       "      <td>fraud_Swaniawski, Nitzsche and Welch</td>\n",
       "      <td>health_fitness</td>\n",
       "      <td>41.28</td>\n",
       "      <td>Ashley</td>\n",
       "      <td>Lopez</td>\n",
       "      <td>F</td>\n",
       "      <td>9333 Valentine Point</td>\n",
       "      <td>...</td>\n",
       "      <td>40.6729</td>\n",
       "      <td>-73.5365</td>\n",
       "      <td>34496</td>\n",
       "      <td>Librarian, public</td>\n",
       "      <td>1970-10-21</td>\n",
       "      <td>c81755dbbbea9d5c77f094348a7579be</td>\n",
       "      <td>1371816893</td>\n",
       "      <td>40.495810</td>\n",
       "      <td>-74.196111</td>\n",
       "      <td>0</td>\n",
       "    </tr>\n",
       "    <tr>\n",
       "      <th>3</th>\n",
       "      <td>3</td>\n",
       "      <td>2020-06-21 12:15:15</td>\n",
       "      <td>3591919803438423</td>\n",
       "      <td>fraud_Haley Group</td>\n",
       "      <td>misc_pos</td>\n",
       "      <td>60.05</td>\n",
       "      <td>Brian</td>\n",
       "      <td>Williams</td>\n",
       "      <td>M</td>\n",
       "      <td>32941 Krystal Mill Apt. 552</td>\n",
       "      <td>...</td>\n",
       "      <td>28.5697</td>\n",
       "      <td>-80.8191</td>\n",
       "      <td>54767</td>\n",
       "      <td>Set designer</td>\n",
       "      <td>1987-07-25</td>\n",
       "      <td>2159175b9efe66dc301f149d3d5abf8c</td>\n",
       "      <td>1371816915</td>\n",
       "      <td>28.812398</td>\n",
       "      <td>-80.883061</td>\n",
       "      <td>0</td>\n",
       "    </tr>\n",
       "    <tr>\n",
       "      <th>4</th>\n",
       "      <td>4</td>\n",
       "      <td>2020-06-21 12:15:17</td>\n",
       "      <td>3526826139003047</td>\n",
       "      <td>fraud_Johnston-Casper</td>\n",
       "      <td>travel</td>\n",
       "      <td>3.19</td>\n",
       "      <td>Nathan</td>\n",
       "      <td>Massey</td>\n",
       "      <td>M</td>\n",
       "      <td>5783 Evan Roads Apt. 465</td>\n",
       "      <td>...</td>\n",
       "      <td>44.2529</td>\n",
       "      <td>-85.0170</td>\n",
       "      <td>1126</td>\n",
       "      <td>Furniture designer</td>\n",
       "      <td>1955-07-06</td>\n",
       "      <td>57ff021bd3f328f8738bb535c302a31b</td>\n",
       "      <td>1371816917</td>\n",
       "      <td>44.959148</td>\n",
       "      <td>-85.884734</td>\n",
       "      <td>0</td>\n",
       "    </tr>\n",
       "  </tbody>\n",
       "</table>\n",
       "<p>5 rows × 23 columns</p>\n",
       "</div>"
      ],
      "text/plain": [
       "   Unnamed: 0 trans_date_trans_time            cc_num  \\\n",
       "0           0   2020-06-21 12:14:25  2291163933867244   \n",
       "1           1   2020-06-21 12:14:33  3573030041201292   \n",
       "2           2   2020-06-21 12:14:53  3598215285024754   \n",
       "3           3   2020-06-21 12:15:15  3591919803438423   \n",
       "4           4   2020-06-21 12:15:17  3526826139003047   \n",
       "\n",
       "                               merchant        category    amt   first  \\\n",
       "0                 fraud_Kirlin and Sons   personal_care   2.86    Jeff   \n",
       "1                  fraud_Sporer-Keebler   personal_care  29.84  Joanne   \n",
       "2  fraud_Swaniawski, Nitzsche and Welch  health_fitness  41.28  Ashley   \n",
       "3                     fraud_Haley Group        misc_pos  60.05   Brian   \n",
       "4                 fraud_Johnston-Casper          travel   3.19  Nathan   \n",
       "\n",
       "       last gender                       street  ...      lat      long  \\\n",
       "0   Elliott      M            351 Darlene Green  ...  33.9659  -80.9355   \n",
       "1  Williams      F             3638 Marsh Union  ...  40.3207 -110.4360   \n",
       "2     Lopez      F         9333 Valentine Point  ...  40.6729  -73.5365   \n",
       "3  Williams      M  32941 Krystal Mill Apt. 552  ...  28.5697  -80.8191   \n",
       "4    Massey      M     5783 Evan Roads Apt. 465  ...  44.2529  -85.0170   \n",
       "\n",
       "   city_pop                     job         dob  \\\n",
       "0    333497     Mechanical engineer  1968-03-19   \n",
       "1       302  Sales professional, IT  1990-01-17   \n",
       "2     34496       Librarian, public  1970-10-21   \n",
       "3     54767            Set designer  1987-07-25   \n",
       "4      1126      Furniture designer  1955-07-06   \n",
       "\n",
       "                          trans_num   unix_time  merch_lat  merch_long  \\\n",
       "0  2da90c7d74bd46a0caf3777415b3ebd3  1371816865  33.986391  -81.200714   \n",
       "1  324cc204407e99f51b0d6ca0055005e7  1371816873  39.450498 -109.960431   \n",
       "2  c81755dbbbea9d5c77f094348a7579be  1371816893  40.495810  -74.196111   \n",
       "3  2159175b9efe66dc301f149d3d5abf8c  1371816915  28.812398  -80.883061   \n",
       "4  57ff021bd3f328f8738bb535c302a31b  1371816917  44.959148  -85.884734   \n",
       "\n",
       "   is_fraud  \n",
       "0         0  \n",
       "1         0  \n",
       "2         0  \n",
       "3         0  \n",
       "4         0  \n",
       "\n",
       "[5 rows x 23 columns]"
      ]
     },
     "execution_count": 2,
     "metadata": {},
     "output_type": "execute_result"
    }
   ],
   "source": [
    "data=pd.read_csv(\"C:\\\\Users\\\\SUHAS R S\\\\Downloads\\\\fraudTest.csv\\\\fraudTest.csv\",sep=\",\")\n",
    "data.head()"
   ]
  },
  {
   "cell_type": "code",
   "execution_count": 3,
   "id": "93a1200a",
   "metadata": {},
   "outputs": [
    {
     "name": "stdout",
     "output_type": "stream",
     "text": [
      "Non-Numeric Columns:\n",
      "Index(['trans_date_trans_time', 'merchant', 'category', 'first', 'last',\n",
      "       'gender', 'street', 'city', 'state', 'job', 'dob', 'trans_num'],\n",
      "      dtype='object')\n"
     ]
    }
   ],
   "source": [
    "non_numeric_columns = data.select_dtypes(exclude=['number']).columns\n",
    "\n",
    "print(\"Non-Numeric Columns:\")\n",
    "print(non_numeric_columns)\n"
   ]
  },
  {
   "cell_type": "code",
   "execution_count": 4,
   "id": "d5b869fa",
   "metadata": {},
   "outputs": [],
   "source": [
    "from sklearn.preprocessing import LabelEncoder\n",
    "\n",
    "# Columns containing textual data\n",
    "categorical_columns = ['merchant', 'category', 'gender', 'street', 'job', 'dob', 'trans_num','city', 'state']\n",
    "\n",
    "# Label Encoding: Convert categorical values into numerical labels\n",
    "label_encoder = LabelEncoder()\n",
    "for col in categorical_columns:\n",
    "    data[col] = label_encoder.fit_transform(data[col])\n",
    "\n",
    "# Now, categorical columns are converted to numerical labels\n",
    "\n",
    "# For 'category' column,considering one-hot encoding\n",
    "data = pd.get_dummies(data, columns=['category'], prefix=['category'])\n",
    "\n",
    "\n"
   ]
  },
  {
   "cell_type": "code",
   "execution_count": 5,
   "id": "b5e1df44",
   "metadata": {},
   "outputs": [],
   "source": [
    "# Droping the 'first' and 'last' columns\n",
    "columns_to_drop = ['first', 'last']\n",
    "data.drop(columns=columns_to_drop, inplace=True)\n",
    "\n",
    "\n"
   ]
  },
  {
   "cell_type": "code",
   "execution_count": 6,
   "id": "843aea0e",
   "metadata": {},
   "outputs": [],
   "source": [
    "# Convert the timestamp column to a pandas datetime object\n",
    "data['trans_date_trans_time'] = pd.to_datetime(data['trans_date_trans_time'])\n",
    "\n",
    "# Extract relevant components of the timestamp\n",
    "data['year'] = data['trans_date_trans_time'].dt.year\n",
    "data['month'] = data['trans_date_trans_time'].dt.month\n",
    "data['day'] = data['trans_date_trans_time'].dt.day\n",
    "data['hour'] = data['trans_date_trans_time'].dt.hour\n",
    "data['minute'] = data['trans_date_trans_time'].dt.minute\n",
    "data['second'] = data['trans_date_trans_time'].dt.second\n",
    "\n",
    "# Drop the original timestamp column\n",
    "data.drop(columns=['trans_date_trans_time'], inplace=True)\n",
    "\n"
   ]
  },
  {
   "cell_type": "code",
   "execution_count": 7,
   "id": "9a3bfa53",
   "metadata": {},
   "outputs": [
    {
     "name": "stdout",
     "output_type": "stream",
     "text": [
      "<class 'pandas.core.frame.DataFrame'>\n",
      "RangeIndex: 555719 entries, 0 to 555718\n",
      "Data columns (total 39 columns):\n",
      " #   Column       Non-Null Count   Dtype  \n",
      "---  ------       --------------   -----  \n",
      " 0   Unnamed: 0   555719 non-null  int64  \n",
      " 1   cc_num       555719 non-null  int64  \n",
      " 2   merchant     555719 non-null  int32  \n",
      " 3   amt          555719 non-null  float64\n",
      " 4   gender       555719 non-null  int32  \n",
      " 5   street       555719 non-null  int32  \n",
      " 6   city         555719 non-null  int32  \n",
      " 7   state        555719 non-null  int32  \n",
      " 8   zip          555719 non-null  int64  \n",
      " 9   lat          555719 non-null  float64\n",
      " 10  long         555719 non-null  float64\n",
      " 11  city_pop     555719 non-null  int64  \n",
      " 12  job          555719 non-null  int32  \n",
      " 13  dob          555719 non-null  int32  \n",
      " 14  trans_num    555719 non-null  int32  \n",
      " 15  unix_time    555719 non-null  int64  \n",
      " 16  merch_lat    555719 non-null  float64\n",
      " 17  merch_long   555719 non-null  float64\n",
      " 18  is_fraud     555719 non-null  int64  \n",
      " 19  category_0   555719 non-null  uint8  \n",
      " 20  category_1   555719 non-null  uint8  \n",
      " 21  category_2   555719 non-null  uint8  \n",
      " 22  category_3   555719 non-null  uint8  \n",
      " 23  category_4   555719 non-null  uint8  \n",
      " 24  category_5   555719 non-null  uint8  \n",
      " 25  category_6   555719 non-null  uint8  \n",
      " 26  category_7   555719 non-null  uint8  \n",
      " 27  category_8   555719 non-null  uint8  \n",
      " 28  category_9   555719 non-null  uint8  \n",
      " 29  category_10  555719 non-null  uint8  \n",
      " 30  category_11  555719 non-null  uint8  \n",
      " 31  category_12  555719 non-null  uint8  \n",
      " 32  category_13  555719 non-null  uint8  \n",
      " 33  year         555719 non-null  int64  \n",
      " 34  month        555719 non-null  int64  \n",
      " 35  day          555719 non-null  int64  \n",
      " 36  hour         555719 non-null  int64  \n",
      " 37  minute       555719 non-null  int64  \n",
      " 38  second       555719 non-null  int64  \n",
      "dtypes: float64(5), int32(8), int64(12), uint8(14)\n",
      "memory usage: 96.5 MB\n"
     ]
    }
   ],
   "source": [
    "data.info()"
   ]
  },
  {
   "cell_type": "code",
   "execution_count": 8,
   "id": "05873260",
   "metadata": {},
   "outputs": [
    {
     "data": {
      "text/plain": [
       "False"
      ]
     },
     "execution_count": 8,
     "metadata": {},
     "output_type": "execute_result"
    }
   ],
   "source": [
    "data.isnull().values.any()"
   ]
  },
  {
   "cell_type": "code",
   "execution_count": 9,
   "id": "b3aa492c",
   "metadata": {},
   "outputs": [
    {
     "data": {
      "text/plain": [
       "Text(0, 0.5, 'Frequency')"
      ]
     },
     "execution_count": 9,
     "metadata": {},
     "output_type": "execute_result"
    },
    {
     "data": {
      "image/png": "[encoded data removed]",
      "text/plain": [
       "<Figure size 1400x800 with 1 Axes>"
      ]
     },
     "metadata": {},
     "output_type": "display_data"
    }
   ],
   "source": [
    "count_classes=pd.value_counts(data['is_fraud'],sort=True)\n",
    "\n",
    "count_classes.plot(kind=\"bar\", rot=0)\n",
    "\n",
    "plt.title(\"Transaction Class Distribution\")\n",
    "\n",
    "plt.xticks(range(1), LABELS)\n",
    "plt.xlabel(\"is_fraud\")\n",
    "\n",
    "plt.ylabel(\"Frequency\")"
   ]
  },
  {
   "cell_type": "code",
   "execution_count": 10,
   "id": "93e0bd15",
   "metadata": {},
   "outputs": [],
   "source": [
    "## Get the fraud and norma dataset\n",
    "\n",
    "fraud=data[data['is_fraud']==1]\n",
    "\n",
    "normal=data[data['is_fraud']==0]"
   ]
  },
  {
   "cell_type": "code",
   "execution_count": 11,
   "id": "4cf595f2",
   "metadata": {},
   "outputs": [
    {
     "name": "stdout",
     "output_type": "stream",
     "text": [
      "(2145, 39) (553574, 39)\n"
     ]
    }
   ],
   "source": [
    "print(fraud.shape,normal.shape)"
   ]
  },
  {
   "cell_type": "code",
   "execution_count": 12,
   "id": "fcb87264",
   "metadata": {},
   "outputs": [
    {
     "data": {
      "text/plain": [
       "count    2145.000000\n",
       "mean      528.356494\n",
       "std       392.747594\n",
       "min         1.780000\n",
       "25%       214.510000\n",
       "50%       371.940000\n",
       "75%       907.770000\n",
       "max      1320.920000\n",
       "Name: amt, dtype: float64"
      ]
     },
     "execution_count": 12,
     "metadata": {},
     "output_type": "execute_result"
    }
   ],
   "source": [
    "## We need to analyze more amount of inforation from the transaction data\n",
    "## How different are the amount of money used in different transaction classes?\n",
    "\n",
    "fraud.amt.describe()"
   ]
  },
  {
   "cell_type": "code",
   "execution_count": 13,
   "id": "2f7b529d",
   "metadata": {},
   "outputs": [
    {
     "data": {
      "text/plain": [
       "count    553574.000000\n",
       "mean         67.614408\n",
       "std         152.471931\n",
       "min           1.000000\n",
       "25%           9.600000\n",
       "50%          47.150000\n",
       "75%          82.620000\n",
       "max       22768.110000\n",
       "Name: amt, dtype: float64"
      ]
     },
     "execution_count": 13,
     "metadata": {},
     "output_type": "execute_result"
    }
   ],
   "source": [
    "normal.amt.describe()"
   ]
  },
  {
   "cell_type": "code",
   "execution_count": 14,
   "id": "0acb0a1f",
   "metadata": {},
   "outputs": [
    {
     "data": {
      "image/png": "[encoded data removed]",
      "text/plain": [
       "<Figure size 1400x800 with 2 Axes>"
      ]
     },
     "metadata": {},
     "output_type": "display_data"
    }
   ],
   "source": [
    "f,(ax1,ax2)=plt.subplots(2,1,sharex=True)\n",
    "f.suptitle('Amount per transaction by class')\n",
    "bins=50\n",
    "ax1.hist(fraud.amt,bins=bins)\n",
    "ax1.set_title('Fraud')\n",
    "ax2.hist(normal.amt, bins = bins)\n",
    "ax2.set_title('Normal')\n",
    "plt.xlabel('Amount($)')\n",
    "plt.ylabel('Number of Transactions')\n",
    "plt.xlim((0,20000))\n",
    "plt.yscale('log')\n",
    "plt.show();"
   ]
  },
  {
   "cell_type": "code",
   "execution_count": 15,
   "id": "b844bffb",
   "metadata": {},
   "outputs": [
    {
     "data": {
      "text/plain": [
       "(55572, 39)"
      ]
     },
     "execution_count": 15,
     "metadata": {},
     "output_type": "execute_result"
    }
   ],
   "source": [
    "## Take some sample of the data\n",
    "\n",
    "data1= data.sample(frac = 0.1,random_state=1)\n",
    "\n",
    "data1.shape"
   ]
  },
  {
   "cell_type": "code",
   "execution_count": 16,
   "id": "f8dabc09",
   "metadata": {},
   "outputs": [],
   "source": [
    "#Determine the number of fraud and valid transactions in the dataset\n",
    "\n",
    "Fraud = data1[data1['is_fraud']==1]\n",
    "\n",
    "Valid = data1[data1['is_fraud']==0]\n",
    "\n",
    "outlier_fraction = len(Fraud)/float(len(Valid))"
   ]
  },
  {
   "cell_type": "code",
   "execution_count": 17,
   "id": "d94b0b04",
   "metadata": {},
   "outputs": [
    {
     "name": "stdout",
     "output_type": "stream",
     "text": [
      "0.004337453914552158\n",
      "Fraud Cases : 240\n",
      "Valid Cases : 55332\n"
     ]
    }
   ],
   "source": [
    "print(outlier_fraction)\n",
    "\n",
    "print(\"Fraud Cases : {}\".format(len(Fraud)))\n",
    "\n",
    "print(\"Valid Cases : {}\".format(len(Valid)))"
   ]
  },
  {
   "cell_type": "code",
   "execution_count": 18,
   "id": "bb9edcd2",
   "metadata": {},
   "outputs": [
    {
     "name": "stdout",
     "output_type": "stream",
     "text": [
      "(55572, 38)\n",
      "(55572,)\n"
     ]
    }
   ],
   "source": [
    "#Create independent and Dependent Features\n",
    "columns = data1.columns.tolist()\n",
    "# Filter the columns to remove data we do not want \n",
    "columns = [c for c in columns if c not in [\"is_fraud\"]]\n",
    "# Store the variable we are predicting \n",
    "target = \"is_fraud\"\n",
    "# Define a random state \n",
    "state = np.random.RandomState(42)\n",
    "X = data1[columns]\n",
    "Y = data1[target]\n",
    "X_outliers = state.uniform(low=0, high=1, size=(X.shape[0], X.shape[1]))\n",
    "# Print the shapes of X & Y\n",
    "print(X.shape)\n",
    "print(Y.shape)"
   ]
  },
  {
   "cell_type": "code",
   "execution_count": 19,
   "id": "ae25338a",
   "metadata": {},
   "outputs": [],
   "source": [
    "##Define the outlier detection methods\n",
    "\n",
    "classifiers = {\n",
    "    \"Isolation Forest\":IsolationForest(n_estimators=100, max_samples=len(X), \n",
    "                                       contamination=outlier_fraction,random_state=state, verbose=0),\n",
    "    \"Local Outlier Factor\":LocalOutlierFactor(n_neighbors=20, algorithm='auto', \n",
    "                                              leaf_size=30, metric='minkowski',\n",
    "                                              p=2, metric_params=None, contamination=outlier_fraction),\n",
    "    \"Support Vector Machine\":OneClassSVM(kernel='rbf', degree=3, gamma=0.1,nu=0.05, \n",
    "                                         max_iter=-1)\n",
    "   \n",
    "}"
   ]
  },
  {
   "cell_type": "code",
   "execution_count": 20,
   "id": "a0e2504f",
   "metadata": {},
   "outputs": [
    {
     "data": {
      "text/plain": [
       "dict"
      ]
     },
     "execution_count": 20,
     "metadata": {},
     "output_type": "execute_result"
    }
   ],
   "source": [
    "type(classifiers)"
   ]
  },
  {
   "cell_type": "code",
   "execution_count": 21,
   "id": "0df0e681",
   "metadata": {},
   "outputs": [
    {
     "data": {
      "text/plain": [
       "Index(['Unnamed: 0', 'cc_num', 'merchant', 'amt', 'gender', 'street', 'city',\n",
       "       'state', 'zip', 'lat', 'long', 'city_pop', 'job', 'dob', 'trans_num',\n",
       "       'unix_time', 'merch_lat', 'merch_long', 'is_fraud', 'category_0',\n",
       "       'category_1', 'category_2', 'category_3', 'category_4', 'category_5',\n",
       "       'category_6', 'category_7', 'category_8', 'category_9', 'category_10',\n",
       "       'category_11', 'category_12', 'category_13', 'year', 'month', 'day',\n",
       "       'hour', 'minute', 'second'],\n",
       "      dtype='object')"
      ]
     },
     "execution_count": 21,
     "metadata": {},
     "output_type": "execute_result"
    }
   ],
   "source": [
    "data.columns"
   ]
  },
  {
   "cell_type": "code",
   "execution_count": null,
   "id": "5b0952eb",
   "metadata": {},
   "outputs": [
    {
     "name": "stdout",
     "output_type": "stream",
     "text": [
      "Isolation Forest: 468\n",
      "Accuracy Score :\n",
      "0.9915784927661412\n",
      "Classification Report :\n",
      "              precision    recall  f1-score   support\n",
      "\n",
      "           0       1.00      1.00      1.00     55332\n",
      "           1       0.03      0.03      0.03       240\n",
      "\n",
      "    accuracy                           0.99     55572\n",
      "   macro avg       0.51      0.51      0.51     55572\n",
      "weighted avg       0.99      0.99      0.99     55572\n",
      "\n",
      "Local Outlier Factor: 472\n",
      "Accuracy Score :\n",
      "0.9915065140718348\n",
      "Classification Report :\n",
      "              precision    recall  f1-score   support\n",
      "\n",
      "           0       1.00      1.00      1.00     55332\n",
      "           1       0.01      0.01      0.01       240\n",
      "\n",
      "    accuracy                           0.99     55572\n",
      "   macro avg       0.50      0.50      0.50     55572\n",
      "weighted avg       0.99      0.99      0.99     55572\n",
      "\n"
     ]
    }
   ],
   "source": [
    "n_outliers = len(Fraud)\n",
    "for i, (clf_name,clf) in enumerate(classifiers.items()):\n",
    "    #Fit the data and tag outliers\n",
    "    if clf_name == \"Local Outlier Factor\":\n",
    "        y_pred = clf.fit_predict(X)\n",
    "        scores_prediction = clf.negative_outlier_factor_\n",
    "    elif clf_name == \"Support Vector Machine\":\n",
    "        clf.fit(X)\n",
    "        y_pred = clf.predict(X)\n",
    "    else:    \n",
    "        clf.fit(X)\n",
    "        scores_prediction = clf.decision_function(X)\n",
    "        y_pred = clf.predict(X)\n",
    "    #Reshape the prediction values to 0 for Valid transactions , 1 for Fraud transactions\n",
    "    y_pred[y_pred == 1] = 0\n",
    "    y_pred[y_pred == -1] = 1\n",
    "    n_errors = (y_pred != Y).sum()\n",
    "    # Run Classification Metrics\n",
    "    print(\"{}: {}\".format(clf_name,n_errors))\n",
    "    print(\"Accuracy Score :\")\n",
    "    print(accuracy_score(Y,y_pred))\n",
    "    print(\"Classification Report :\")\n",
    "    print(classification_report(Y,y_pred))"
   ]
  },
  {
   "cell_type": "code",
   "execution_count": null,
   "id": "4f296269",
   "metadata": {},
   "outputs": [],
   "source": []
  },
  {
   "cell_type": "code",
   "execution_count": null,
   "id": "5cb418ec",
   "metadata": {},
   "outputs": [],
   "source": []
  },
  {
   "cell_type": "code",
   "execution_count": null,
   "id": "c0d03ace",
   "metadata": {},
   "outputs": [],
   "source": []
  }
 ],
 "metadata": {
  "kernelspec": {
   "display_name": "Python 3 (ipykernel)",
   "language": "python",
   "name": "python3"
  },
  "language_info": {
   "codemirror_mode": {
    "name": "ipython",
    "version": 3
   },
   "file_extension": ".py",
   "mimetype": "text/x-python",
   "name": "python",
   "nbconvert_exporter": "python",
   "pygments_lexer": "ipython3",
   "version": "3.11.4"
  }
 },
 "nbformat": 4,
 "nbformat_minor": 5
}
